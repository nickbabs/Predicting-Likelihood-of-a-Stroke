{
 "cells": [
  {
   "cell_type": "markdown",
   "id": "9ca7de1c-bac4-4558-9417-70bc48b1e76c",
   "metadata": {},
   "source": [
    "# DSCI 521: Data Analysis and Interpretation\n",
    "# Term Project: Predicting the Likelyhood of a Stroke\n",
    "# Group Five: Hannah Wurzel, Joey Chan, Nick Babcock, Kunal Chhabria\n"
   ]
  },
  {
   "cell_type": "markdown",
   "id": "10a605f6-bd64-4837-96bc-ad0252b7ff1a",
   "metadata": {},
   "source": [
    "### Team Background\n",
    "\n",
    "- Hannah Wurzel: I am a current Masters student in the Data Science program.  I studied computer science and mathematics in my undergrad.  I am comfortable with coding in Python and the mathematical techniques that are behind most of the algorithms we will be using to analyze our dataset.\n",
    "\n",
    "- Joey Chan: I am a fifth quarter Master student in the Information System program with a minor in Data Science. For my undergraduate, I went to University of Pittsburgh for Rehabilitation Science and Information Science. I have experience with Python. I am hope to futher hone my skills with python.\n",
    "\n",
    "- Nick Babcock:  I am a first year Data Science master's student and have limited experience with coding but am getting better as I continue to get more exposure. I have a great deal of experience with various math disciplines such as linear algebra, differential equations, calculus, differential equations, and more due to my undergraduate studies in physics and mathematics, so quantitative methods is something I'm very comfortable with. I am interested in analyzing data in order to gain a positive insight and hope to one day work in the sports analytics or healthcare industries. I would like to continue to grow my coding skills and want to gain experience with NLP, machine learning, and database management.\n",
    "\n",
    "- Kunal Chhabria:  I am Kunal Chhabria, graduate student pursuing Master’s in Data Science degree at Drexel University and this is my second quarter here. I completed my Bachelor’s in Computer Applications in India. I worked as a junior system administrator for a year and a half back home. My self identified skills include operating Linux OS, problem solving with computers, logical thinker and good at math topics like linear algebra, calculus. I also added python and data aquisition techniques to my skills with DSCI 511 class in the Fall term. With DSCI 521 I would like to learn to better manipulate data, manage and analyze large data sets, visualize data with the help of python modules most importantly learn to get insights from data sets. "
   ]
  },
  {
   "cell_type": "markdown",
   "id": "7cf79d6d-ca44-4797-bcbc-83c694f6a60f",
   "metadata": {},
   "source": [
    "## What Our Analysis Will Accomplish\n",
    "Nearly 795,000 people in the United States experience a stroke yearly.  From this group of people, 610,000 of these are first time occurances.  (https://www.cdc.gov/stroke/facts.htm#:~:text=Every%20year%2C%20more%20than%20795%2C000,are%20first%20or%20new%20strokes.&text=About%20185%2C000%20strokes%E2%80%94nearly%201,have%20had%20a%20previous%20stroke.&text=About%2087%25%20of%20all%20strokes,to%20the%20brain%20is%20blocked.)  These scary statistics led our group to want to learn more about strokes and when they tend to occur to people. In this project, we are aiming to prove if there are any predictors that a stroke may occur in a person.\n",
    "\n",
    "To accomplish this task we will be using a dataset collected from Kaggle called *Stroke Prediction Dataset*.  This dataset includes over 5,000 rows of data and twelve relevant columns of information per person.  These columns store information such as age, if the patient has hypertension, their BMI and other descriptors.  This dataset includes a wide range of people spanning all different ages, weights, and ways of living. \n",
    "\n",
    "With the use of this dataset, we are hopeful that we will be able to extract meaningful information about which parameters in a person are most useful in predicting a stroke.  Aside from physcial characteristics, we will also be analyzing information about a persons daily life such as marital status, if they are a smoker, etc. to determine if any of these outside factors have an effect on whether a stroke is more likely to occur or not. "
   ]
  },
  {
   "cell_type": "markdown",
   "id": "53d96859-9918-4428-a2a9-5e33653ea0ea",
   "metadata": {},
   "source": [
    "## Who may be interested in our data\n",
    "We hope our findings are useful to a wide range of people including both medical professionals and everyday individuals.  Strokes are something that happen regardless of social and economic status, meaning that everyone should be cognizant of the causes and implications if one were to occur.  We hope our analysis will be useful in predicting the likelyhood that a stroke may occur in all types of people as these predictions could be live-saving."
   ]
  },
  {
   "cell_type": "markdown",
   "id": "aa253c28-6c97-46f5-b359-35351f940006",
   "metadata": {},
   "source": [
    "## Application of Analysis\n",
    "\n",
    "Our analysis could serve several purposes but the most common one would be for medical insurance or life insurance companies. These companies, espcially life insurance, normally charge their customers a rate that is determined by their medical history and maybe even their family history. Our analysis could be used to determine whether or not a person is likely to have a stroke in the future, thus resulting in a higher charge for medical and / or life insurance. Another way our analysis could be applied is for personal use. If our analysis is able to show a person whether or not they are likely to have a stroke in the future, it could be enough to help that person develope healthier habbits in order to reduce their risk of having a stroke in the future."
   ]
  },
  {
   "cell_type": "markdown",
   "id": "0f03cf25-c55b-4ae9-b564-4aff75233444",
   "metadata": {},
   "source": [
    "## How our analysis is limited\n",
    "Our analysis is based off of a study that was conducted with 5111 participants and while that seems like a big sample size, it could be expanded in order to obtain more accurate results. This study was also conducted in the United States, so these results may not apply to people who are living in other parts of the world. Our analysis could be improved by expanding to other parts of the world. It could also improve by adding more attributes to our data such as family medical history."
   ]
  },
  {
   "cell_type": "markdown",
   "id": "ca5bb5a9-5c2b-4f01-a214-1e070528685a",
   "metadata": {},
   "source": [
    "### Exhibition of Our Data"
   ]
  },
  {
   "cell_type": "code",
   "execution_count": 1,
   "id": "8369d498-f2b2-41d5-9859-b2983dfe8728",
   "metadata": {},
   "outputs": [],
   "source": [
    "import pandas as pd"
   ]
  },
  {
   "cell_type": "code",
   "execution_count": 3,
   "id": "9ae2798f-d5ee-4999-9b97-f7362e53e64f",
   "metadata": {},
   "outputs": [
    {
     "data": {
      "text/html": [
       "<div>\n",
       "<style scoped>\n",
       "    .dataframe tbody tr th:only-of-type {\n",
       "        vertical-align: middle;\n",
       "    }\n",
       "\n",
       "    .dataframe tbody tr th {\n",
       "        vertical-align: top;\n",
       "    }\n",
       "\n",
       "    .dataframe thead th {\n",
       "        text-align: right;\n",
       "    }\n",
       "</style>\n",
       "<table border=\"1\" class=\"dataframe\">\n",
       "  <thead>\n",
       "    <tr style=\"text-align: right;\">\n",
       "      <th></th>\n",
       "      <th>id</th>\n",
       "      <th>gender</th>\n",
       "      <th>age</th>\n",
       "      <th>hypertension</th>\n",
       "      <th>heart_disease</th>\n",
       "      <th>ever_married</th>\n",
       "      <th>work_type</th>\n",
       "      <th>Residence_type</th>\n",
       "      <th>avg_glucose_level</th>\n",
       "      <th>bmi</th>\n",
       "      <th>smoking_status</th>\n",
       "      <th>stroke</th>\n",
       "    </tr>\n",
       "  </thead>\n",
       "  <tbody>\n",
       "    <tr>\n",
       "      <th>0</th>\n",
       "      <td>9046</td>\n",
       "      <td>Male</td>\n",
       "      <td>67.0</td>\n",
       "      <td>0</td>\n",
       "      <td>1</td>\n",
       "      <td>Yes</td>\n",
       "      <td>Private</td>\n",
       "      <td>Urban</td>\n",
       "      <td>228.69</td>\n",
       "      <td>36.6</td>\n",
       "      <td>formerly smoked</td>\n",
       "      <td>1</td>\n",
       "    </tr>\n",
       "    <tr>\n",
       "      <th>1</th>\n",
       "      <td>51676</td>\n",
       "      <td>Female</td>\n",
       "      <td>61.0</td>\n",
       "      <td>0</td>\n",
       "      <td>0</td>\n",
       "      <td>Yes</td>\n",
       "      <td>Self-employed</td>\n",
       "      <td>Rural</td>\n",
       "      <td>202.21</td>\n",
       "      <td>NaN</td>\n",
       "      <td>never smoked</td>\n",
       "      <td>1</td>\n",
       "    </tr>\n",
       "    <tr>\n",
       "      <th>2</th>\n",
       "      <td>31112</td>\n",
       "      <td>Male</td>\n",
       "      <td>80.0</td>\n",
       "      <td>0</td>\n",
       "      <td>1</td>\n",
       "      <td>Yes</td>\n",
       "      <td>Private</td>\n",
       "      <td>Rural</td>\n",
       "      <td>105.92</td>\n",
       "      <td>32.5</td>\n",
       "      <td>never smoked</td>\n",
       "      <td>1</td>\n",
       "    </tr>\n",
       "    <tr>\n",
       "      <th>3</th>\n",
       "      <td>60182</td>\n",
       "      <td>Female</td>\n",
       "      <td>49.0</td>\n",
       "      <td>0</td>\n",
       "      <td>0</td>\n",
       "      <td>Yes</td>\n",
       "      <td>Private</td>\n",
       "      <td>Urban</td>\n",
       "      <td>171.23</td>\n",
       "      <td>34.4</td>\n",
       "      <td>smokes</td>\n",
       "      <td>1</td>\n",
       "    </tr>\n",
       "    <tr>\n",
       "      <th>4</th>\n",
       "      <td>1665</td>\n",
       "      <td>Female</td>\n",
       "      <td>79.0</td>\n",
       "      <td>1</td>\n",
       "      <td>0</td>\n",
       "      <td>Yes</td>\n",
       "      <td>Self-employed</td>\n",
       "      <td>Rural</td>\n",
       "      <td>174.12</td>\n",
       "      <td>24.0</td>\n",
       "      <td>never smoked</td>\n",
       "      <td>1</td>\n",
       "    </tr>\n",
       "  </tbody>\n",
       "</table>\n",
       "</div>"
      ],
      "text/plain": [
       "      id  gender   age  hypertension  heart_disease ever_married  \\\n",
       "0   9046    Male  67.0             0              1          Yes   \n",
       "1  51676  Female  61.0             0              0          Yes   \n",
       "2  31112    Male  80.0             0              1          Yes   \n",
       "3  60182  Female  49.0             0              0          Yes   \n",
       "4   1665  Female  79.0             1              0          Yes   \n",
       "\n",
       "       work_type Residence_type  avg_glucose_level   bmi   smoking_status  \\\n",
       "0        Private          Urban             228.69  36.6  formerly smoked   \n",
       "1  Self-employed          Rural             202.21   NaN     never smoked   \n",
       "2        Private          Rural             105.92  32.5     never smoked   \n",
       "3        Private          Urban             171.23  34.4           smokes   \n",
       "4  Self-employed          Rural             174.12  24.0     never smoked   \n",
       "\n",
       "   stroke  \n",
       "0       1  \n",
       "1       1  \n",
       "2       1  \n",
       "3       1  \n",
       "4       1  "
      ]
     },
     "execution_count": 3,
     "metadata": {},
     "output_type": "execute_result"
    }
   ],
   "source": [
    "df = pd.read_csv('healthcare-dataset-stroke-data.csv')\n",
    "df.head()"
   ]
  },
  {
   "cell_type": "markdown",
   "id": "18a351c1-1c1f-4815-bee8-88ef79aebb4a",
   "metadata": {},
   "source": [
    "### Preprocessing"
   ]
  },
  {
   "cell_type": "markdown",
   "id": "42c1cfea-5d12-4b59-aa4a-41c89a27d9e0",
   "metadata": {},
   "source": [
    "Next, we will be using the `info()` function to look further into the data. Using this funciton we can see that there are 5110 rows and 12 total columns. We are also able to see that there is some missing information in the `bmi` column, 201 NA's to be exact. These will be deleted before we complete any analysis."
   ]
  },
  {
   "cell_type": "code",
   "execution_count": 4,
   "id": "5ce4d946-9545-4fba-9f49-70cb88360789",
   "metadata": {},
   "outputs": [
    {
     "name": "stdout",
     "output_type": "stream",
     "text": [
      "<class 'pandas.core.frame.DataFrame'>\n",
      "RangeIndex: 5110 entries, 0 to 5109\n",
      "Data columns (total 12 columns):\n",
      " #   Column             Non-Null Count  Dtype  \n",
      "---  ------             --------------  -----  \n",
      " 0   id                 5110 non-null   int64  \n",
      " 1   gender             5110 non-null   object \n",
      " 2   age                5110 non-null   float64\n",
      " 3   hypertension       5110 non-null   int64  \n",
      " 4   heart_disease      5110 non-null   int64  \n",
      " 5   ever_married       5110 non-null   object \n",
      " 6   work_type          5110 non-null   object \n",
      " 7   Residence_type     5110 non-null   object \n",
      " 8   avg_glucose_level  5110 non-null   float64\n",
      " 9   bmi                4909 non-null   float64\n",
      " 10  smoking_status     5110 non-null   object \n",
      " 11  stroke             5110 non-null   int64  \n",
      "dtypes: float64(3), int64(4), object(5)\n",
      "memory usage: 479.2+ KB\n"
     ]
    }
   ],
   "source": [
    "df.info()"
   ]
  },
  {
   "cell_type": "code",
   "execution_count": 5,
   "id": "5987b284-b2fb-421d-bb4b-0854bbea26b5",
   "metadata": {},
   "outputs": [
    {
     "name": "stdout",
     "output_type": "stream",
     "text": [
      "(4909, 12)\n"
     ]
    }
   ],
   "source": [
    "# taking out nulls\n",
    "df = df.dropna(axis=0)\n",
    "print(df.shape)"
   ]
  },
  {
   "cell_type": "markdown",
   "id": "74ae876e-c38d-4bad-abc6-2a8bdbd2065a",
   "metadata": {},
   "source": [
    "Another aspect of this dataset that will need to be altered are the categorical columns. This inclues the `gender`, `ever_married`, `work_type`, `Residence_type`, and `smoking status` columns. After completing some EDA will will transform these attributes into numerical attributes so we are able to use various models on the data."
   ]
  },
  {
   "cell_type": "markdown",
   "id": "61a803d8-c7e1-4b09-8428-177653ee1649",
   "metadata": {},
   "source": [
    "### Exploratory Data Analysis"
   ]
  },
  {
   "cell_type": "markdown",
   "id": "d8feaa17-295e-4372-873d-1fdc439a4cd8",
   "metadata": {},
   "source": [
    "To begin our EDA we are first using the `.describe()` function to get a better understanding of the individuals encapsulated in our data."
   ]
  },
  {
   "cell_type": "code",
   "execution_count": 6,
   "id": "f9f3bc04-2a54-463b-8f81-7d4cb6cd05c2",
   "metadata": {},
   "outputs": [
    {
     "data": {
      "text/html": [
       "<div>\n",
       "<style scoped>\n",
       "    .dataframe tbody tr th:only-of-type {\n",
       "        vertical-align: middle;\n",
       "    }\n",
       "\n",
       "    .dataframe tbody tr th {\n",
       "        vertical-align: top;\n",
       "    }\n",
       "\n",
       "    .dataframe thead th {\n",
       "        text-align: right;\n",
       "    }\n",
       "</style>\n",
       "<table border=\"1\" class=\"dataframe\">\n",
       "  <thead>\n",
       "    <tr style=\"text-align: right;\">\n",
       "      <th></th>\n",
       "      <th>id</th>\n",
       "      <th>age</th>\n",
       "      <th>hypertension</th>\n",
       "      <th>heart_disease</th>\n",
       "      <th>avg_glucose_level</th>\n",
       "      <th>bmi</th>\n",
       "      <th>stroke</th>\n",
       "    </tr>\n",
       "  </thead>\n",
       "  <tbody>\n",
       "    <tr>\n",
       "      <th>count</th>\n",
       "      <td>4909.000000</td>\n",
       "      <td>4909.000000</td>\n",
       "      <td>4909.000000</td>\n",
       "      <td>4909.000000</td>\n",
       "      <td>4909.000000</td>\n",
       "      <td>4909.000000</td>\n",
       "      <td>4909.000000</td>\n",
       "    </tr>\n",
       "    <tr>\n",
       "      <th>mean</th>\n",
       "      <td>37064.313506</td>\n",
       "      <td>42.865374</td>\n",
       "      <td>0.091872</td>\n",
       "      <td>0.049501</td>\n",
       "      <td>105.305150</td>\n",
       "      <td>28.893237</td>\n",
       "      <td>0.042575</td>\n",
       "    </tr>\n",
       "    <tr>\n",
       "      <th>std</th>\n",
       "      <td>20995.098457</td>\n",
       "      <td>22.555115</td>\n",
       "      <td>0.288875</td>\n",
       "      <td>0.216934</td>\n",
       "      <td>44.424341</td>\n",
       "      <td>7.854067</td>\n",
       "      <td>0.201917</td>\n",
       "    </tr>\n",
       "    <tr>\n",
       "      <th>min</th>\n",
       "      <td>77.000000</td>\n",
       "      <td>0.080000</td>\n",
       "      <td>0.000000</td>\n",
       "      <td>0.000000</td>\n",
       "      <td>55.120000</td>\n",
       "      <td>10.300000</td>\n",
       "      <td>0.000000</td>\n",
       "    </tr>\n",
       "    <tr>\n",
       "      <th>25%</th>\n",
       "      <td>18605.000000</td>\n",
       "      <td>25.000000</td>\n",
       "      <td>0.000000</td>\n",
       "      <td>0.000000</td>\n",
       "      <td>77.070000</td>\n",
       "      <td>23.500000</td>\n",
       "      <td>0.000000</td>\n",
       "    </tr>\n",
       "    <tr>\n",
       "      <th>50%</th>\n",
       "      <td>37608.000000</td>\n",
       "      <td>44.000000</td>\n",
       "      <td>0.000000</td>\n",
       "      <td>0.000000</td>\n",
       "      <td>91.680000</td>\n",
       "      <td>28.100000</td>\n",
       "      <td>0.000000</td>\n",
       "    </tr>\n",
       "    <tr>\n",
       "      <th>75%</th>\n",
       "      <td>55220.000000</td>\n",
       "      <td>60.000000</td>\n",
       "      <td>0.000000</td>\n",
       "      <td>0.000000</td>\n",
       "      <td>113.570000</td>\n",
       "      <td>33.100000</td>\n",
       "      <td>0.000000</td>\n",
       "    </tr>\n",
       "    <tr>\n",
       "      <th>max</th>\n",
       "      <td>72940.000000</td>\n",
       "      <td>82.000000</td>\n",
       "      <td>1.000000</td>\n",
       "      <td>1.000000</td>\n",
       "      <td>271.740000</td>\n",
       "      <td>97.600000</td>\n",
       "      <td>1.000000</td>\n",
       "    </tr>\n",
       "  </tbody>\n",
       "</table>\n",
       "</div>"
      ],
      "text/plain": [
       "                 id          age  hypertension  heart_disease  \\\n",
       "count   4909.000000  4909.000000   4909.000000    4909.000000   \n",
       "mean   37064.313506    42.865374      0.091872       0.049501   \n",
       "std    20995.098457    22.555115      0.288875       0.216934   \n",
       "min       77.000000     0.080000      0.000000       0.000000   \n",
       "25%    18605.000000    25.000000      0.000000       0.000000   \n",
       "50%    37608.000000    44.000000      0.000000       0.000000   \n",
       "75%    55220.000000    60.000000      0.000000       0.000000   \n",
       "max    72940.000000    82.000000      1.000000       1.000000   \n",
       "\n",
       "       avg_glucose_level          bmi       stroke  \n",
       "count        4909.000000  4909.000000  4909.000000  \n",
       "mean          105.305150    28.893237     0.042575  \n",
       "std            44.424341     7.854067     0.201917  \n",
       "min            55.120000    10.300000     0.000000  \n",
       "25%            77.070000    23.500000     0.000000  \n",
       "50%            91.680000    28.100000     0.000000  \n",
       "75%           113.570000    33.100000     0.000000  \n",
       "max           271.740000    97.600000     1.000000  "
      ]
     },
     "execution_count": 6,
     "metadata": {},
     "output_type": "execute_result"
    }
   ],
   "source": [
    "df.describe()"
   ]
  },
  {
   "cell_type": "markdown",
   "id": "b25234d0-420f-4cd8-963a-b41b8c9d9a17",
   "metadata": {},
   "source": [
    "Our next step in the EDA is to plot all of the attributes so we are visually able to see if there are any trends amongst the data as it relates to having a stoke.  First we will graph each attribute against their value counts.  Then we will go a step further and compare each attribute to whether or not that person had a stroke."
   ]
  },
  {
   "cell_type": "code",
   "execution_count": 7,
   "id": "4bfe89cb-ee22-492f-b543-7b0e67642677",
   "metadata": {},
   "outputs": [],
   "source": [
    "from matplotlib import pyplot as plt"
   ]
  },
  {
   "cell_type": "code",
   "execution_count": 8,
   "id": "1296b802-6377-4c5e-b93c-68a8f79a7dfd",
   "metadata": {},
   "outputs": [
    {
     "data": {
      "text/plain": [
       "Female    2897\n",
       "Male      2011\n",
       "Other        1\n",
       "Name: gender, dtype: int64"
      ]
     },
     "execution_count": 8,
     "metadata": {},
     "output_type": "execute_result"
    },
    {
     "data": {
      "image/png": "[encoded data removed]",
      "text/plain": [
       "<Figure size 432x288 with 1 Axes>"
      ]
     },
     "metadata": {
      "needs_background": "light"
     },
     "output_type": "display_data"
    }
   ],
   "source": [
    "# gender distribution\n",
    "df['gender'].value_counts().plot(kind='bar', title = 'Gender', xlabel='Gender', ylabel='Number of Patients',color='#003f5c') \n",
    "df['gender'].value_counts()                                    # 59% female, 41% male, only 1 value listed as 'Other'"
   ]
  },
  {
   "cell_type": "code",
   "execution_count": 9,
   "id": "ba46e054-a859-47a4-8564-a6a3062bab28",
   "metadata": {},
   "outputs": [
    {
     "data": {
      "image/png": "[encoded data removed]",
      "text/plain": [
       "<Figure size 432x288 with 1 Axes>"
      ]
     },
     "metadata": {
      "needs_background": "light"
     },
     "output_type": "display_data"
    }
   ],
   "source": [
    "# count of females and males that had and didn't have strokes\n",
    "fem = df['gender'] == 'Female'\n",
    "female = df[fem]\n",
    "fYstroke = female['stroke'] == 1\n",
    "fstrokeY = female[fYstroke]\n",
    "fNstroke = female['stroke'] == 0\n",
    "fstrokeN = female[fNstroke]\n",
    "\n",
    "male = df[-fem]\n",
    "mYstroke = male['stroke'] == 1\n",
    "mstrokeY = male[mYstroke]\n",
    "mNstroke = male['stroke'] == 0\n",
    "mstrokeN = male[mNstroke]\n",
    "\n",
    "\n",
    "# chart\n",
    "status = ['Female', 'Male']\n",
    "stro = [len(fstrokeY), len(mstrokeY)]\n",
    "nostro = [len(fstrokeN), len(mstrokeN)]\n",
    "\n",
    "w = 0.6\n",
    "plt.bar(status, stro,  w, color = '#ffa632', label='Stroke')\n",
    "plt.bar(status, nostro, w, bottom = stro, color = '#003f5c', label='No Stroke')\n",
    "\n",
    "plt.xlabel(\"Stroke Status\")\n",
    "plt.ylabel(\"Number of People\")\n",
    "plt.title('Stroke Status vs. Gender')\n",
    "plt.legend()\n",
    "plt.show()"
   ]
  },
  {
   "cell_type": "code",
   "execution_count": 10,
   "id": "a5944b36-9486-4ae8-b3b2-2160362c950e",
   "metadata": {},
   "outputs": [
    {
     "data": {
      "image/png": "[encoded data removed]",
      "text/plain": [
       "<Figure size 432x432 with 1 Axes>"
      ]
     },
     "metadata": {
      "needs_background": "light"
     },
     "output_type": "display_data"
    }
   ],
   "source": [
    "# age distribution\n",
    "hist_fig = plt.figure(figsize = (6, 6))\n",
    "\n",
    "_  = plt.hist(df[\"age\"], bins = 15, color='#003f5c')\n",
    "\n",
    "plt.tick_params(labelsize = 15)\n",
    "_ = plt.title(\"Age frequency\", fontsize = 15)\n",
    "_ = plt.ylabel(\"Number Patients\", fontsize = 15)\n",
    "_ = plt.xlabel(\"Age\", fontsize = 15)"
   ]
  },
  {
   "cell_type": "code",
   "execution_count": 11,
   "id": "f04fd4e5-51f4-4246-b098-31bc88ec4643",
   "metadata": {},
   "outputs": [
    {
     "data": {
      "image/png": "[encoded data removed]",
      "text/plain": [
       "<Figure size 432x432 with 1 Axes>"
      ]
     },
     "metadata": {
      "needs_background": "light"
     },
     "output_type": "display_data"
    }
   ],
   "source": [
    "# stroke vs. no stroke compared to age\n",
    "yes_stroke = df['stroke'] == 1\n",
    "had_stroke = df[yes_stroke]\n",
    "no_stroke = df[-yes_stroke]\n",
    "\n",
    "fig = plt.figure(figsize = (6, 6))\n",
    "_ = plt.boxplot(\n",
    "    [had_stroke[\"age\"], \n",
    "     no_stroke[\"age\"], \n",
    "     ], \n",
    "    labels = [\"Stroke\", \"No Stroke\"])\n",
    "plt.tick_params(labelsize = 15)\n",
    "_ = plt.title(\"Stroke vs. no stroke compared to age\", fontsize = 15)"
   ]
  },
  {
   "cell_type": "code",
   "execution_count": 12,
   "id": "594e9bbe-1db1-400e-baf2-5b62ccb104d8",
   "metadata": {},
   "outputs": [
    {
     "data": {
      "text/plain": [
       "Yes    3204\n",
       "No     1705\n",
       "Name: ever_married, dtype: int64"
      ]
     },
     "execution_count": 12,
     "metadata": {},
     "output_type": "execute_result"
    },
    {
     "data": {
      "image/png": "[encoded data removed]",
      "text/plain": [
       "<Figure size 432x288 with 1 Axes>"
      ]
     },
     "metadata": {
      "needs_background": "light"
     },
     "output_type": "display_data"
    }
   ],
   "source": [
    "# marriage\n",
    "df['ever_married'].value_counts().plot(kind='bar', title = 'Ever Married?', color='#003f5c') # 65% married, 34% not married\n",
    "df['ever_married'].value_counts()"
   ]
  },
  {
   "cell_type": "code",
   "execution_count": 13,
   "id": "25c29532-b7d0-4e1a-a0b2-2654a31a76cf",
   "metadata": {},
   "outputs": [
    {
     "data": {
      "image/png": "[encoded data removed]",
      "text/plain": [
       "<Figure size 432x288 with 1 Axes>"
      ]
     },
     "metadata": {
      "needs_background": "light"
     },
     "output_type": "display_data"
    }
   ],
   "source": [
    "# marriage vs. stroke\n",
    "mar = df['ever_married'] == 'Yes'\n",
    "married = df[mar]\n",
    "mYstroke = married['stroke'] == 1\n",
    "mstrokeY = married[mYstroke]\n",
    "mNstroke = married['stroke'] == 0\n",
    "mstrokeN = married[mNstroke]\n",
    "\n",
    "notmar = df[-mar]\n",
    "nmYstroke = notmar['stroke'] == 1\n",
    "nmstrokeY = notmar[nmYstroke]\n",
    "nmNstroke = notmar['stroke'] == 0\n",
    "nmstrokeN = notmar[nmNstroke]\n",
    "\n",
    "# chart\n",
    "status = ['Married', 'Not Married']\n",
    "s = [len(mstrokeY), len(nmstrokeY)]\n",
    "ns = [len(mstrokeN), len(nmstrokeN)]\n",
    "\n",
    "w = 0.6\n",
    "plt.bar(status, s, w, color = '#ffa632', label='Stroke')\n",
    "plt.bar(status, ns, w, bottom = s, color = '#003f5c', label='No Stroke')\n",
    "\n",
    "plt.xlabel(\"Stroke Status\")\n",
    "plt.ylabel(\"Number of People\")\n",
    "plt.title('Stroke Status vs. Marriage Status')\n",
    "plt.legend()\n",
    "plt.show()"
   ]
  },
  {
   "cell_type": "code",
   "execution_count": 14,
   "id": "51d11fe7-5c98-496f-8d09-026c5205619e",
   "metadata": {},
   "outputs": [
    {
     "data": {
      "text/plain": [
       "Private          2811\n",
       "Self-employed     775\n",
       "children          671\n",
       "Govt_job          630\n",
       "Never_worked       22\n",
       "Name: work_type, dtype: int64"
      ]
     },
     "execution_count": 14,
     "metadata": {},
     "output_type": "execute_result"
    },
    {
     "data": {
      "image/png": "[encoded data removed]",
      "text/plain": [
       "<Figure size 432x288 with 1 Axes>"
      ]
     },
     "metadata": {
      "needs_background": "light"
     },
     "output_type": "display_data"
    }
   ],
   "source": [
    "# work type\n",
    "df['work_type'].value_counts().plot(kind='bar', title = 'Work Type', color='#003f5c') \n",
    "df['work_type'].value_counts()                                       "
   ]
  },
  {
   "cell_type": "code",
   "execution_count": 15,
   "id": "ec0cab89-5057-41d9-b94b-fcfd2c1560d9",
   "metadata": {},
   "outputs": [
    {
     "data": {
      "image/png": "[encoded data removed]",
      "text/plain": [
       "<Figure size 432x288 with 1 Axes>"
      ]
     },
     "metadata": {
      "needs_background": "light"
     },
     "output_type": "display_data"
    }
   ],
   "source": [
    "# job type vs. stroke\n",
    "pri = df['work_type'] == 'Private'    # private\n",
    "private = df[pri]\n",
    "priYstroke = private['stroke'] == 1\n",
    "pristrokeY = private[priYstroke]\n",
    "pristroke = private['stroke'] == 0\n",
    "pristrokeN = private[pristroke]\n",
    "\n",
    "s = df['work_type'] == 'Self-employed'      # self-employed\n",
    "sel = df[s]    \n",
    "selYstroke = sel['stroke'] == 1\n",
    "selstrokeY = sel[selYstroke]\n",
    "selNstroke = sel['stroke'] == 0\n",
    "selstrokeN = sel[selNstroke]\n",
    "\n",
    "children = df['work_type'] == 'children'      # children\n",
    "child = df[children]    \n",
    "chYstroke = child['stroke'] == 1\n",
    "chstrokeY = child[chYstroke]\n",
    "chNstroke = child['stroke'] == 0\n",
    "chstrokeN = child[chNstroke]\n",
    "\n",
    "govern = df['work_type'] == 'Govt_job'      # government job\n",
    "gov = df[govern]    \n",
    "govYstroke = gov['stroke'] == 1\n",
    "govstrokeY = gov[govYstroke]\n",
    "govNstroke = gov['stroke'] == 0\n",
    "govstrokeN = gov[govNstroke]\n",
    "\n",
    "nev = df['work_type'] == 'Never_worked'      # never worked\n",
    "never = df[nev]    \n",
    "nevYstroke = never['stroke'] == 1\n",
    "nevstrokeY = never[nevYstroke]\n",
    "nevNstroke = never['stroke'] == 0\n",
    "nevstrokeN = never[nevNstroke]\n",
    "\n",
    "# chart\n",
    "status = ['Private', 'Self-Employed', 'Children', 'Government Job', 'None']\n",
    "st = [len(pristrokeY),len(selstrokeY),len(chstrokeY),len(govstrokeY),len(nevstrokeY)]\n",
    "nost = [len(pristrokeN),len(selstrokeN),len(chstrokeN),len(govstrokeN),len(nevstrokeN)]\n",
    "\n",
    "w = 0.6\n",
    "plt.bar(status, st, w, color = '#ffa632', label='Stroke')\n",
    "plt.bar(status, nost, w, bottom = st, color = '#003f5c', label='No Stroke')\n",
    "\n",
    "plt.xlabel(\"Stroke Status\")\n",
    "plt.ylabel(\"Number of People\")\n",
    "plt.title('Stroke Status vs. Job Type')\n",
    "plt.legend()\n",
    "plt.show()"
   ]
  },
  {
   "cell_type": "code",
   "execution_count": 16,
   "id": "a8550f35-2fab-4b70-a0e5-a6a278ca22fa",
   "metadata": {},
   "outputs": [
    {
     "data": {
      "text/plain": [
       "Urban    2490\n",
       "Rural    2419\n",
       "Name: Residence_type, dtype: int64"
      ]
     },
     "execution_count": 16,
     "metadata": {},
     "output_type": "execute_result"
    },
    {
     "data": {
      "image/png": "[encoded data removed]",
      "text/plain": [
       "<Figure size 432x288 with 1 Axes>"
      ]
     },
     "metadata": {
      "needs_background": "light"
     },
     "output_type": "display_data"
    }
   ],
   "source": [
    "# residence type\n",
    "df['Residence_type'].value_counts().plot(kind='bar', title = 'Residence Type', color='#003f5c') # pretty even between urban and rural\n",
    "df['Residence_type'].value_counts()"
   ]
  },
  {
   "cell_type": "code",
   "execution_count": 17,
   "id": "cff8327e-073d-42b5-bddc-ed0b3fd6040d",
   "metadata": {},
   "outputs": [
    {
     "data": {
      "image/png": "[encoded data removed]",
      "text/plain": [
       "<Figure size 432x288 with 1 Axes>"
      ]
     },
     "metadata": {
      "needs_background": "light"
     },
     "output_type": "display_data"
    }
   ],
   "source": [
    "# residence type vs. stroke\n",
    "u = df['Residence_type'] == 'Urban'\n",
    "urban = df[u]\n",
    "uYstroke = urban['stroke'] == 1\n",
    "ustrokeY = urban[uYstroke]\n",
    "uNstroke = urban['stroke'] == 0\n",
    "ustrokeN = urban[uNstroke]\n",
    "\n",
    "rural = df[-u]\n",
    "rYstroke = rural['stroke'] == 1\n",
    "rstrokeY = rural[rYstroke]\n",
    "rNstroke = rural['stroke'] == 0\n",
    "rstrokeN = rural[rNstroke]\n",
    "\n",
    "# chart\n",
    "status = ['Rural', 'Urban']\n",
    "strok = [len(ustrokeY), len(rstrokeY)]\n",
    "nostrok = [len(ustrokeN), len(rstrokeN)]\n",
    "\n",
    "w = 0.6\n",
    "\n",
    "plt.bar(status, strok, w, color = '#ffa632', label='Stroke')\n",
    "plt.bar(status, nostrok, w, bottom = strok, color = '#003f5c', label='No Stroke')\n",
    "\n",
    "plt.xlabel(\"Stroke Status\")\n",
    "plt.ylabel(\"Number of People\")\n",
    "plt.title('Stroke Status vs. Residence Type')\n",
    "plt.legend()\n",
    "plt.show()"
   ]
  },
  {
   "cell_type": "code",
   "execution_count": 18,
   "id": "d792cc48-249f-4365-b87d-51cdce79350e",
   "metadata": {},
   "outputs": [
    {
     "data": {
      "image/png": "[encoded data removed]",
      "text/plain": [
       "<Figure size 432x288 with 1 Axes>"
      ]
     },
     "metadata": {
      "needs_background": "light"
     },
     "output_type": "display_data"
    }
   ],
   "source": [
    "# hypertension\n",
    "no, yes = df['hypertension'].value_counts() # 90% no hypertension\n",
    "fig = plt.figure()                          # 10% hypertension\n",
    "ax = fig.add_axes([0,0,1,1])\n",
    "langs = ['yes', 'no']\n",
    "students = [yes,no]\n",
    "ax.bar(langs,students, color='#003f5c')\n",
    "ax.set_title('Hypertension')\n",
    "plt.show()"
   ]
  },
  {
   "cell_type": "code",
   "execution_count": 19,
   "id": "6fb90271-15e4-465c-8a16-1964138a52ab",
   "metadata": {},
   "outputs": [
    {
     "data": {
      "image/png": "[encoded data removed]",
      "text/plain": [
       "<Figure size 432x288 with 1 Axes>"
      ]
     },
     "metadata": {
      "needs_background": "light"
     },
     "output_type": "display_data"
    },
    {
     "name": "stdout",
     "output_type": "stream",
     "text": [
      "60 391\n",
      "149 4309\n"
     ]
    }
   ],
   "source": [
    "# hypertension vs. stroke\n",
    "h = df['hypertension'] == 1\n",
    "hyper = df[h]\n",
    "hs = hyper['stroke'] == 1\n",
    "hyper_stroke = hyper[hs]\n",
    "hyper_noStroke = hyper[-hs]\n",
    "hs_num = hyper_stroke.shape[0]\n",
    "hns_num = hyper_noStroke.shape[0]\n",
    "\n",
    "not_hyper = df[-h]\n",
    "nh_s = not_hyper['stroke'] == 1\n",
    "nh_stroke = not_hyper[nh_s]\n",
    "nh_nstroke = not_hyper[-nh_s]\n",
    "nhs_num = nh_stroke.shape[0]\n",
    "nhns_num = nh_nstroke.shape[0]\n",
    "\n",
    "\n",
    "# chart\n",
    "x = ['hypertension', 'no hypertension']\n",
    "hyper = [hs_num, hns_num]\n",
    "no_hyper = [nhs_num, nhns_num] \n",
    "\n",
    "plt.bar(x, hyper, color='#ffa632', label='Stroke')\n",
    "plt.bar(x, no_hyper, bottom=hyper, color='#003f5c', label='No Stroke')\n",
    "plt.xlabel(\"Hypertension Status\")\n",
    "plt.ylabel(\"Number of People\")\n",
    "plt.legend()\n",
    "plt.title('Stroke Status vs. Hypertension')\n",
    "plt.show()\n",
    "\n",
    "print(hs_num, hns_num)    # 13% of people with hypertension also had a stroke\n",
    "print(nhs_num, nhns_num)  # 3 % of people without hypertension had a stroke"
   ]
  },
  {
   "cell_type": "code",
   "execution_count": 20,
   "id": "3143dd6e-8627-4200-a547-ab828e9dc62b",
   "metadata": {},
   "outputs": [
    {
     "data": {
      "image/png": "[encoded data removed]",
      "text/plain": [
       "<Figure size 432x288 with 1 Axes>"
      ]
     },
     "metadata": {
      "needs_background": "light"
     },
     "output_type": "display_data"
    }
   ],
   "source": [
    "# Heart Disease\n",
    "no, yes = df['heart_disease'].value_counts() \n",
    "fig = plt.figure()                          \n",
    "ax = fig.add_axes([0,0,1,1])\n",
    "langs = ['yes', 'no']\n",
    "students = [yes,no]\n",
    "ax.bar(langs,students, color='#003f5c')\n",
    "ax.set_title('Heart Disease')\n",
    "plt.show()"
   ]
  },
  {
   "cell_type": "code",
   "execution_count": 21,
   "id": "f01de898-4898-4f86-af61-567edff6e4c3",
   "metadata": {},
   "outputs": [
    {
     "data": {
      "image/png": "[encoded data removed]",
      "text/plain": [
       "<Figure size 432x288 with 1 Axes>"
      ]
     },
     "metadata": {
      "needs_background": "light"
     },
     "output_type": "display_data"
    }
   ],
   "source": [
    "# heart disease vs. stroke\n",
    "h = df['heart_disease'] == 0\n",
    "heart = df[h]\n",
    "hYstroke = heart['stroke'] == 1\n",
    "hstrokeY = heart[hYstroke]\n",
    "hNstroke = heart['stroke'] == 0\n",
    "hstrokeN = heart[hNstroke]\n",
    "\n",
    "noheart = df[-h]\n",
    "nhYstroke = noheart['stroke'] == 1\n",
    "nhstrokeY = noheart[nhYstroke]\n",
    "nhNstroke = noheart['stroke'] == 0\n",
    "nhstrokeN = noheart[nhNstroke]\n",
    "\n",
    "# chart\n",
    "status = ['Heart Disease', 'No Heart Disease']\n",
    "attack = [len(hstrokeY), len(hstrokeN)]\n",
    "noattack = [len(nhstrokeY), len(nhstrokeN)]\n",
    "\n",
    "w = 0.6\n",
    "plt.bar(status, attack, w, color = '#003f5c', label='No Stroke')\n",
    "plt.bar(status, noattack, w, color = '#ffa632', label='Stroke')\n",
    "\n",
    "plt.xlabel(\"Stroke Status\")\n",
    "plt.ylabel(\"Number of People\")\n",
    "plt.title('Stroke Status vs. Heart Disease')\n",
    "plt.legend()\n",
    "plt.show()"
   ]
  },
  {
   "cell_type": "code",
   "execution_count": 22,
   "id": "4be15993-1cd5-4a7c-81cd-8a85baa48033",
   "metadata": {},
   "outputs": [
    {
     "data": {
      "image/png": "[encoded data removed]",
      "text/plain": [
       "<Figure size 432x432 with 1 Axes>"
      ]
     },
     "metadata": {
      "needs_background": "light"
     },
     "output_type": "display_data"
    }
   ],
   "source": [
    "# avg glucose level\n",
    "hist_fig = plt.figure(figsize = (6, 6))\n",
    "\n",
    "_  = plt.hist(df[\"avg_glucose_level\"], bins = 15, color='#003f5c')\n",
    "\n",
    "plt.tick_params(labelsize = 15)\n",
    "_ = plt.title(\"Average Glucose Level\", fontsize = 15)\n",
    "_ = plt.ylabel(\"Number Patients\", fontsize = 15)\n",
    "_ = plt.xlabel(\"Glucose Level\", fontsize = 15)"
   ]
  },
  {
   "cell_type": "code",
   "execution_count": 23,
   "id": "eab76eeb-5edd-4ef1-93fa-1b1a86130b1a",
   "metadata": {},
   "outputs": [
    {
     "data": {
      "image/png": "[encoded data removed]",
      "text/plain": [
       "<Figure size 432x432 with 1 Axes>"
      ]
     },
     "metadata": {
      "needs_background": "light"
     },
     "output_type": "display_data"
    }
   ],
   "source": [
    "# glucose level vs. stroke\n",
    "yes_stroke = df['stroke'] == 1\n",
    "had_stroke = df[yes_stroke]\n",
    "no_stroke = df[-yes_stroke]\n",
    "\n",
    "fig = plt.figure(figsize = (6,6))\n",
    "_ = plt.boxplot(\n",
    "    [had_stroke[\"avg_glucose_level\"], \n",
    "     no_stroke[\"avg_glucose_level\"]\n",
    "     ], \n",
    "    labels = [\"Stroke\", \"No Stroke\"])\n",
    "plt.tick_params(labelsize = 15)\n",
    "_ = plt.title(\"Stroke vs. no stroke compared to average glucose level\", fontsize = 15)"
   ]
  },
  {
   "cell_type": "code",
   "execution_count": 24,
   "id": "3d868491-0654-4fd3-b227-48cadc0c6894",
   "metadata": {},
   "outputs": [
    {
     "data": {
      "image/png": "[encoded data removed]",
      "text/plain": [
       "<Figure size 432x432 with 1 Axes>"
      ]
     },
     "metadata": {
      "needs_background": "light"
     },
     "output_type": "display_data"
    }
   ],
   "source": [
    "# BMI\n",
    "hist_fig = plt.figure(figsize = (6, 6))\n",
    "\n",
    "_  = plt.hist(df[\"bmi\"], bins = 15, color='#003f5c')\n",
    "\n",
    "plt.tick_params(labelsize = 15)\n",
    "_ = plt.title(\"BMI\", fontsize = 15)\n",
    "_ = plt.ylabel(\"Number Patients\", fontsize = 15)\n",
    "_ = plt.xlabel(\"BMI\", fontsize = 15)"
   ]
  },
  {
   "cell_type": "code",
   "execution_count": 25,
   "id": "519c4f57-52d4-42ca-8a8c-ea61aa3170ea",
   "metadata": {},
   "outputs": [
    {
     "data": {
      "image/png": "[encoded data removed]",
      "text/plain": [
       "<Figure size 432x432 with 1 Axes>"
      ]
     },
     "metadata": {
      "needs_background": "light"
     },
     "output_type": "display_data"
    }
   ],
   "source": [
    "# BMI vs. stroke\n",
    "yes_stroke = df['stroke'] == 1    \n",
    "had_stroke = df[yes_stroke]\n",
    "no_stroke = df[-yes_stroke]\n",
    "\n",
    "fig = plt.figure(figsize = (6,6))\n",
    "_ = plt.boxplot(\n",
    "    [had_stroke[\"bmi\"], \n",
    "     no_stroke[\"bmi\"]\n",
    "     ], \n",
    "    labels = [\"Stroke\", \"No Stroke\"])\n",
    "plt.tick_params(labelsize = 15)\n",
    "_ = plt.title(\"Stroke vs. no stroke compared to BMI\", fontsize = 15)\n"
   ]
  },
  {
   "cell_type": "code",
   "execution_count": 26,
   "id": "187adc29-e61b-4988-8470-67db959bbdf4",
   "metadata": {},
   "outputs": [
    {
     "data": {
      "text/plain": [
       "never smoked       1852\n",
       "Unknown            1483\n",
       "formerly smoked     837\n",
       "smokes              737\n",
       "Name: smoking_status, dtype: int64"
      ]
     },
     "execution_count": 26,
     "metadata": {},
     "output_type": "execute_result"
    },
    {
     "data": {
      "image/png": "[encoded data removed]",
      "text/plain": [
       "<Figure size 432x288 with 1 Axes>"
      ]
     },
     "metadata": {
      "needs_background": "light"
     },
     "output_type": "display_data"
    }
   ],
   "source": [
    "df['smoking_status'].value_counts().plot(kind='bar', title = 'Smoking Status', color='#003f5c') \n",
    "df['smoking_status'].value_counts()   "
   ]
  },
  {
   "cell_type": "code",
   "execution_count": 27,
   "id": "a07de776-57eb-4d15-ae15-6d516dcee23e",
   "metadata": {
    "scrolled": true
   },
   "outputs": [
    {
     "name": "stdout",
     "output_type": "stream",
     "text": [
      "Had Stroke--  Never Smoked:  84 , Unknown:  29 , Formerly Smoked:  57 , Smokes:  39\n",
      "No Stroke--  Never Smoked:  1768 , Unknown:  1454 , Formerly Smoked:  780 , Smokes:  698\n"
     ]
    },
    {
     "data": {
      "image/png": "[encoded data removed]",
      "text/plain": [
       "<Figure size 432x288 with 1 Axes>"
      ]
     },
     "metadata": {
      "needs_background": "light"
     },
     "output_type": "display_data"
    }
   ],
   "source": [
    "yes_stroke = df['stroke'] == 1\n",
    "had_stroke = df[yes_stroke]\n",
    "no_stroke = df[-yes_stroke]\n",
    "\n",
    "hadS_never = (had_stroke['smoking_status'] == 'never smoked').sum()\n",
    "hadS_unknown = (had_stroke['smoking_status'] == 'Unknown').sum()\n",
    "hadS_formerly = (had_stroke['smoking_status'] == 'formerly smoked').sum()\n",
    "hadS_smokes = (had_stroke['smoking_status'] == 'smokes').sum()\n",
    "print('Had Stroke-- ', 'Never Smoked: ', hadS_never,',', 'Unknown: ', hadS_unknown,',', 'Formerly Smoked: ',hadS_formerly,',', 'Smokes: ',hadS_smokes)\n",
    "\n",
    "noS_never = (no_stroke['smoking_status'] == 'never smoked').sum()\n",
    "noS_unknown = (no_stroke['smoking_status'] == 'Unknown').sum()\n",
    "noS_formerly = (no_stroke['smoking_status'] == 'formerly smoked').sum()\n",
    "noS_smokes = (no_stroke['smoking_status'] == 'smokes').sum()\n",
    "print('No Stroke-- ', 'Never Smoked: ', noS_never,',', 'Unknown: ', noS_unknown,',', 'Formerly Smoked: ',noS_formerly,',', 'Smokes: ', noS_smokes)\n",
    "\n",
    "# chart\n",
    "x = ['Never Smoked', 'Unknown', 'Formerly Smoked', 'Smokes']\n",
    "hadS = [hadS_never, hadS_unknown, hadS_formerly, hadS_smokes]\n",
    "noS = [noS_never, noS_unknown, noS_formerly, noS_smokes] \n",
    "\n",
    "plt.bar(x, hadS, color='#ffa632', label='Stroke')\n",
    "plt.bar(x, noS, bottom=hadS, color='#003f5c', label='No Stroke')\n",
    "plt.xlabel(\"Smoking Status\")\n",
    "plt.ylabel(\"Number of People\")\n",
    "plt.legend()\n",
    "plt.title('Stroke Status vs. Smoking Status')\n",
    "plt.show()"
   ]
  },
  {
   "cell_type": "code",
   "execution_count": 28,
   "id": "f2ff0cfe",
   "metadata": {},
   "outputs": [
    {
     "data": {
      "text/html": [
       "<div>\n",
       "<style scoped>\n",
       "    .dataframe tbody tr th:only-of-type {\n",
       "        vertical-align: middle;\n",
       "    }\n",
       "\n",
       "    .dataframe tbody tr th {\n",
       "        vertical-align: top;\n",
       "    }\n",
       "\n",
       "    .dataframe thead th {\n",
       "        text-align: right;\n",
       "    }\n",
       "</style>\n",
       "<table border=\"1\" class=\"dataframe\">\n",
       "  <thead>\n",
       "    <tr style=\"text-align: right;\">\n",
       "      <th></th>\n",
       "      <th>id</th>\n",
       "      <th>gender</th>\n",
       "      <th>age</th>\n",
       "      <th>hypertension</th>\n",
       "      <th>heart_disease</th>\n",
       "      <th>ever_married</th>\n",
       "      <th>work_type</th>\n",
       "      <th>Residence_type</th>\n",
       "      <th>avg_glucose_level</th>\n",
       "      <th>bmi</th>\n",
       "      <th>smoking_status</th>\n",
       "      <th>stroke</th>\n",
       "    </tr>\n",
       "  </thead>\n",
       "  <tbody>\n",
       "    <tr>\n",
       "      <th>0</th>\n",
       "      <td>9046</td>\n",
       "      <td>Male</td>\n",
       "      <td>67.0</td>\n",
       "      <td>0</td>\n",
       "      <td>1</td>\n",
       "      <td>Yes</td>\n",
       "      <td>Private</td>\n",
       "      <td>Urban</td>\n",
       "      <td>228.69</td>\n",
       "      <td>36.6</td>\n",
       "      <td>formerly smoked</td>\n",
       "      <td>1</td>\n",
       "    </tr>\n",
       "    <tr>\n",
       "      <th>2</th>\n",
       "      <td>31112</td>\n",
       "      <td>Male</td>\n",
       "      <td>80.0</td>\n",
       "      <td>0</td>\n",
       "      <td>1</td>\n",
       "      <td>Yes</td>\n",
       "      <td>Private</td>\n",
       "      <td>Rural</td>\n",
       "      <td>105.92</td>\n",
       "      <td>32.5</td>\n",
       "      <td>never smoked</td>\n",
       "      <td>1</td>\n",
       "    </tr>\n",
       "    <tr>\n",
       "      <th>3</th>\n",
       "      <td>60182</td>\n",
       "      <td>Female</td>\n",
       "      <td>49.0</td>\n",
       "      <td>0</td>\n",
       "      <td>0</td>\n",
       "      <td>Yes</td>\n",
       "      <td>Private</td>\n",
       "      <td>Urban</td>\n",
       "      <td>171.23</td>\n",
       "      <td>34.4</td>\n",
       "      <td>smokes</td>\n",
       "      <td>1</td>\n",
       "    </tr>\n",
       "    <tr>\n",
       "      <th>4</th>\n",
       "      <td>1665</td>\n",
       "      <td>Female</td>\n",
       "      <td>79.0</td>\n",
       "      <td>1</td>\n",
       "      <td>0</td>\n",
       "      <td>Yes</td>\n",
       "      <td>Self-employed</td>\n",
       "      <td>Rural</td>\n",
       "      <td>174.12</td>\n",
       "      <td>24.0</td>\n",
       "      <td>never smoked</td>\n",
       "      <td>1</td>\n",
       "    </tr>\n",
       "    <tr>\n",
       "      <th>5</th>\n",
       "      <td>56669</td>\n",
       "      <td>Male</td>\n",
       "      <td>81.0</td>\n",
       "      <td>0</td>\n",
       "      <td>0</td>\n",
       "      <td>Yes</td>\n",
       "      <td>Private</td>\n",
       "      <td>Urban</td>\n",
       "      <td>186.21</td>\n",
       "      <td>29.0</td>\n",
       "      <td>formerly smoked</td>\n",
       "      <td>1</td>\n",
       "    </tr>\n",
       "    <tr>\n",
       "      <th>...</th>\n",
       "      <td>...</td>\n",
       "      <td>...</td>\n",
       "      <td>...</td>\n",
       "      <td>...</td>\n",
       "      <td>...</td>\n",
       "      <td>...</td>\n",
       "      <td>...</td>\n",
       "      <td>...</td>\n",
       "      <td>...</td>\n",
       "      <td>...</td>\n",
       "      <td>...</td>\n",
       "      <td>...</td>\n",
       "    </tr>\n",
       "    <tr>\n",
       "      <th>243</th>\n",
       "      <td>40460</td>\n",
       "      <td>Female</td>\n",
       "      <td>68.0</td>\n",
       "      <td>1</td>\n",
       "      <td>1</td>\n",
       "      <td>Yes</td>\n",
       "      <td>Private</td>\n",
       "      <td>Urban</td>\n",
       "      <td>247.51</td>\n",
       "      <td>40.5</td>\n",
       "      <td>formerly smoked</td>\n",
       "      <td>1</td>\n",
       "    </tr>\n",
       "    <tr>\n",
       "      <th>244</th>\n",
       "      <td>17739</td>\n",
       "      <td>Male</td>\n",
       "      <td>57.0</td>\n",
       "      <td>0</td>\n",
       "      <td>0</td>\n",
       "      <td>Yes</td>\n",
       "      <td>Private</td>\n",
       "      <td>Rural</td>\n",
       "      <td>84.96</td>\n",
       "      <td>36.7</td>\n",
       "      <td>Unknown</td>\n",
       "      <td>1</td>\n",
       "    </tr>\n",
       "    <tr>\n",
       "      <th>245</th>\n",
       "      <td>49669</td>\n",
       "      <td>Female</td>\n",
       "      <td>14.0</td>\n",
       "      <td>0</td>\n",
       "      <td>0</td>\n",
       "      <td>No</td>\n",
       "      <td>children</td>\n",
       "      <td>Rural</td>\n",
       "      <td>57.93</td>\n",
       "      <td>30.9</td>\n",
       "      <td>Unknown</td>\n",
       "      <td>1</td>\n",
       "    </tr>\n",
       "    <tr>\n",
       "      <th>246</th>\n",
       "      <td>27153</td>\n",
       "      <td>Female</td>\n",
       "      <td>75.0</td>\n",
       "      <td>0</td>\n",
       "      <td>0</td>\n",
       "      <td>Yes</td>\n",
       "      <td>Self-employed</td>\n",
       "      <td>Rural</td>\n",
       "      <td>78.80</td>\n",
       "      <td>29.3</td>\n",
       "      <td>formerly smoked</td>\n",
       "      <td>1</td>\n",
       "    </tr>\n",
       "    <tr>\n",
       "      <th>248</th>\n",
       "      <td>43424</td>\n",
       "      <td>Female</td>\n",
       "      <td>78.0</td>\n",
       "      <td>0</td>\n",
       "      <td>0</td>\n",
       "      <td>Yes</td>\n",
       "      <td>Private</td>\n",
       "      <td>Rural</td>\n",
       "      <td>78.81</td>\n",
       "      <td>19.6</td>\n",
       "      <td>Unknown</td>\n",
       "      <td>1</td>\n",
       "    </tr>\n",
       "  </tbody>\n",
       "</table>\n",
       "<p>209 rows × 12 columns</p>\n",
       "</div>"
      ],
      "text/plain": [
       "        id  gender   age  hypertension  heart_disease ever_married  \\\n",
       "0     9046    Male  67.0             0              1          Yes   \n",
       "2    31112    Male  80.0             0              1          Yes   \n",
       "3    60182  Female  49.0             0              0          Yes   \n",
       "4     1665  Female  79.0             1              0          Yes   \n",
       "5    56669    Male  81.0             0              0          Yes   \n",
       "..     ...     ...   ...           ...            ...          ...   \n",
       "243  40460  Female  68.0             1              1          Yes   \n",
       "244  17739    Male  57.0             0              0          Yes   \n",
       "245  49669  Female  14.0             0              0           No   \n",
       "246  27153  Female  75.0             0              0          Yes   \n",
       "248  43424  Female  78.0             0              0          Yes   \n",
       "\n",
       "         work_type Residence_type  avg_glucose_level   bmi   smoking_status  \\\n",
       "0          Private          Urban             228.69  36.6  formerly smoked   \n",
       "2          Private          Rural             105.92  32.5     never smoked   \n",
       "3          Private          Urban             171.23  34.4           smokes   \n",
       "4    Self-employed          Rural             174.12  24.0     never smoked   \n",
       "5          Private          Urban             186.21  29.0  formerly smoked   \n",
       "..             ...            ...                ...   ...              ...   \n",
       "243        Private          Urban             247.51  40.5  formerly smoked   \n",
       "244        Private          Rural              84.96  36.7          Unknown   \n",
       "245       children          Rural              57.93  30.9          Unknown   \n",
       "246  Self-employed          Rural              78.80  29.3  formerly smoked   \n",
       "248        Private          Rural              78.81  19.6          Unknown   \n",
       "\n",
       "     stroke  \n",
       "0         1  \n",
       "2         1  \n",
       "3         1  \n",
       "4         1  \n",
       "5         1  \n",
       "..      ...  \n",
       "243       1  \n",
       "244       1  \n",
       "245       1  \n",
       "246       1  \n",
       "248       1  \n",
       "\n",
       "[209 rows x 12 columns]"
      ]
     },
     "execution_count": 28,
     "metadata": {},
     "output_type": "execute_result"
    }
   ],
   "source": [
    "sdf = df[df['stroke']== 1]\n",
    "sdf"
   ]
  },
  {
   "cell_type": "code",
   "execution_count": 29,
   "id": "0849d713",
   "metadata": {},
   "outputs": [
    {
     "name": "stderr",
     "output_type": "stream",
     "text": [
      "/Users/nickbabs/opt/anaconda3/lib/python3.8/site-packages/pandas/core/series.py:4509: SettingWithCopyWarning: \n",
      "A value is trying to be set on a copy of a slice from a DataFrame\n",
      "\n",
      "See the caveats in the documentation: https://pandas.pydata.org/pandas-docs/stable/user_guide/indexing.html#returning-a-view-versus-a-copy\n",
      "  return super().replace(\n"
     ]
    }
   ],
   "source": [
    "sdf_copy = sdf\n",
    "sdf_copy['smoking_status'].replace(['formerly smoked', 'smokes', 'never smoked', 'Unknown'],[2,1,0,3], inplace=True)"
   ]
  },
  {
   "cell_type": "code",
   "execution_count": 30,
   "id": "274b29be",
   "metadata": {},
   "outputs": [
    {
     "data": {
      "image/png": "[encoded data removed]",
      "text/plain": [
       "<Figure size 432x432 with 1 Axes>"
      ]
     },
     "metadata": {
      "needs_background": "light"
     },
     "output_type": "display_data"
    }
   ],
   "source": [
    "fig = plt.figure(figsize = (6,6))\n",
    "\n",
    "_ = plt.hist(sdf_copy[\"smoking_status\"], bins = 7, color = \"black\")\n",
    "\n",
    "_ = plt.ylabel(\"Number of Patients\", fontsize = 15)\n",
    "\n",
    "_ = plt.xlabel(\"Smoking Status (0=Never, 1=smokes, 2=former, 3=unknown)\", fontsize = 15)\n",
    "\n",
    "_ = plt.title(\"Smoking Status of Patients with Stroke\", fontsize = 15)\n",
    "\n",
    "plt.tick_params(labelsize = 15)"
   ]
  },
  {
   "cell_type": "code",
   "execution_count": 31,
   "id": "e0001f86",
   "metadata": {},
   "outputs": [
    {
     "data": {
      "image/png": "[encoded data removed]",
      "text/plain": [
       "<Figure size 432x432 with 1 Axes>"
      ]
     },
     "metadata": {
      "needs_background": "light"
     },
     "output_type": "display_data"
    }
   ],
   "source": [
    "fig = plt.figure(figsize = (6,6))\n",
    "\n",
    "_ = plt.hist(sdf_copy[\"gender\"], bins = 3, color = \"black\")\n",
    "\n",
    "_ = plt.ylabel(\"Number of Patients\", fontsize = 15)\n",
    "\n",
    "_ = plt.xlabel(\"Sex\", fontsize = 15)\n",
    "\n",
    "_ = plt.title(\"Sex of Patients with Stroke\", fontsize = 15)\n",
    "\n",
    "plt.tick_params(labelsize = 15)"
   ]
  },
  {
   "cell_type": "code",
   "execution_count": 32,
   "id": "9e192134",
   "metadata": {},
   "outputs": [
    {
     "data": {
      "image/png": "[encoded data removed]",
      "text/plain": [
       "<Figure size 432x432 with 1 Axes>"
      ]
     },
     "metadata": {
      "needs_background": "light"
     },
     "output_type": "display_data"
    }
   ],
   "source": [
    "fig = plt.figure(figsize = (6,6))\n",
    "\n",
    "_ = plt.hist(sdf[\"age\"], bins = 50, color = \"black\")\n",
    "\n",
    "_ = plt.ylabel(\"Number of Patients\", fontsize = 15)\n",
    "\n",
    "_ = plt.xlabel(\"Age (Years)\", fontsize = 15)\n",
    "\n",
    "_ = plt.title(\"Histogram of Age of Patients with Stroke\", fontsize = 15)\n",
    "\n",
    "plt.tick_params(labelsize = 15)"
   ]
  },
  {
   "cell_type": "code",
   "execution_count": 33,
   "id": "55654ec5",
   "metadata": {},
   "outputs": [
    {
     "data": {
      "image/png": "[encoded data removed]",
      "text/plain": [
       "<Figure size 432x432 with 1 Axes>"
      ]
     },
     "metadata": {
      "needs_background": "light"
     },
     "output_type": "display_data"
    }
   ],
   "source": [
    "fig = plt.figure(figsize = (6,6))\n",
    "\n",
    "_ = plt.hist(sdf[\"bmi\"], bins = 50, color = \"black\")\n",
    "\n",
    "_ = plt.ylabel(\"Number of Patients\", fontsize = 15)\n",
    "\n",
    "_ = plt.xlabel(\"BMI\", fontsize = 15)\n",
    "\n",
    "_ = plt.title(\"Histogram of Body Mass Index of Patients with Stroke\", fontsize = 15)\n",
    "\n",
    "plt.tick_params(labelsize = 15)"
   ]
  },
  {
   "cell_type": "code",
   "execution_count": 34,
   "id": "fedb8b9f",
   "metadata": {},
   "outputs": [
    {
     "data": {
      "image/png": "[encoded data removed]",
      "text/plain": [
       "<Figure size 432x432 with 1 Axes>"
      ]
     },
     "metadata": {
      "needs_background": "light"
     },
     "output_type": "display_data"
    }
   ],
   "source": [
    "fig = plt.figure(figsize = (6,6))\n",
    "\n",
    "_ = plt.hist(sdf[\"avg_glucose_level\"], bins = 50, color = \"black\")\n",
    "\n",
    "_ = plt.ylabel(\"Number of Patients\", fontsize = 15)\n",
    "\n",
    "_ = plt.xlabel(\"Glucose Level\", fontsize = 15)\n",
    "\n",
    "_ = plt.title(\"Histogram of Glucose Level of Patients with Stroke\", fontsize = 15)\n",
    "\n",
    "plt.tick_params(labelsize = 15)"
   ]
  },
  {
   "cell_type": "markdown",
   "id": "2f002637-d377-4fe8-89c7-2caafb2fceae",
   "metadata": {},
   "source": [
    "### Models\n",
    "\n",
    "Now that our EDA is wrapped up and we have a better understanding of the types of people that are involved in this dataset, we will move onto the model portion of our project."
   ]
  },
  {
   "cell_type": "markdown",
   "id": "d64b646a-416f-4246-be76-20bd6b182e0f",
   "metadata": {},
   "source": [
    "The first step for this is to change all of the categorical data into numerical data."
   ]
  },
  {
   "cell_type": "code",
   "execution_count": 32,
   "id": "f9dfdddf-09ee-4bad-bf73-77af5d386c24",
   "metadata": {},
   "outputs": [],
   "source": [
    "# Gender --  Male : 0, Female : 1, Other: 2\n",
    "df['gender'].replace(['Male', 'Female', 'Other'],[0,1,2], inplace=True)\n",
    "\n",
    "# Ever Married -- No : 0, Yes : 1\n",
    "df['ever_married'].replace(['No', 'Yes'],[0,1], inplace=True)\n",
    "\n",
    "# Work Type -- Self Employed : 0, Govt Job : 1, Children : 2, Never Worked : 3\n",
    "df['work_type'].replace(['Self-employed', 'Govt_job', 'children', 'Never_worked', 'Private'],[0,1,2,3,4], inplace=True)\n",
    "\n",
    "# Residence Type -- Urban : 0, Rural : 1\n",
    "df['Residence_type'].replace(['Urban', 'Rural'],[0,1], inplace=True)\n",
    "\n",
    "# Smoking status -- Formerly smoked : 0, Never smoked : 1, Smokes : 2, Unknown : 3\n",
    "df['smoking_status'].replace(['formerly smoked', 'never smoked', 'smokes', 'Unknown'],[0,1,2,3], inplace=True)"
   ]
  },
  {
   "cell_type": "code",
   "execution_count": 33,
   "id": "ded3f264-d05c-4361-b73a-ba0b810ba524",
   "metadata": {},
   "outputs": [
    {
     "data": {
      "text/html": [
       "<div>\n",
       "<style scoped>\n",
       "    .dataframe tbody tr th:only-of-type {\n",
       "        vertical-align: middle;\n",
       "    }\n",
       "\n",
       "    .dataframe tbody tr th {\n",
       "        vertical-align: top;\n",
       "    }\n",
       "\n",
       "    .dataframe thead th {\n",
       "        text-align: right;\n",
       "    }\n",
       "</style>\n",
       "<table border=\"1\" class=\"dataframe\">\n",
       "  <thead>\n",
       "    <tr style=\"text-align: right;\">\n",
       "      <th></th>\n",
       "      <th>id</th>\n",
       "      <th>gender</th>\n",
       "      <th>age</th>\n",
       "      <th>hypertension</th>\n",
       "      <th>heart_disease</th>\n",
       "      <th>ever_married</th>\n",
       "      <th>work_type</th>\n",
       "      <th>Residence_type</th>\n",
       "      <th>avg_glucose_level</th>\n",
       "      <th>bmi</th>\n",
       "      <th>smoking_status</th>\n",
       "      <th>stroke</th>\n",
       "    </tr>\n",
       "  </thead>\n",
       "  <tbody>\n",
       "    <tr>\n",
       "      <th>0</th>\n",
       "      <td>9046</td>\n",
       "      <td>0</td>\n",
       "      <td>67.0</td>\n",
       "      <td>0</td>\n",
       "      <td>1</td>\n",
       "      <td>1</td>\n",
       "      <td>4</td>\n",
       "      <td>0</td>\n",
       "      <td>228.69</td>\n",
       "      <td>36.6</td>\n",
       "      <td>0</td>\n",
       "      <td>1</td>\n",
       "    </tr>\n",
       "    <tr>\n",
       "      <th>2</th>\n",
       "      <td>31112</td>\n",
       "      <td>0</td>\n",
       "      <td>80.0</td>\n",
       "      <td>0</td>\n",
       "      <td>1</td>\n",
       "      <td>1</td>\n",
       "      <td>4</td>\n",
       "      <td>1</td>\n",
       "      <td>105.92</td>\n",
       "      <td>32.5</td>\n",
       "      <td>1</td>\n",
       "      <td>1</td>\n",
       "    </tr>\n",
       "    <tr>\n",
       "      <th>3</th>\n",
       "      <td>60182</td>\n",
       "      <td>1</td>\n",
       "      <td>49.0</td>\n",
       "      <td>0</td>\n",
       "      <td>0</td>\n",
       "      <td>1</td>\n",
       "      <td>4</td>\n",
       "      <td>0</td>\n",
       "      <td>171.23</td>\n",
       "      <td>34.4</td>\n",
       "      <td>2</td>\n",
       "      <td>1</td>\n",
       "    </tr>\n",
       "    <tr>\n",
       "      <th>4</th>\n",
       "      <td>1665</td>\n",
       "      <td>1</td>\n",
       "      <td>79.0</td>\n",
       "      <td>1</td>\n",
       "      <td>0</td>\n",
       "      <td>1</td>\n",
       "      <td>0</td>\n",
       "      <td>1</td>\n",
       "      <td>174.12</td>\n",
       "      <td>24.0</td>\n",
       "      <td>1</td>\n",
       "      <td>1</td>\n",
       "    </tr>\n",
       "    <tr>\n",
       "      <th>5</th>\n",
       "      <td>56669</td>\n",
       "      <td>0</td>\n",
       "      <td>81.0</td>\n",
       "      <td>0</td>\n",
       "      <td>0</td>\n",
       "      <td>1</td>\n",
       "      <td>4</td>\n",
       "      <td>0</td>\n",
       "      <td>186.21</td>\n",
       "      <td>29.0</td>\n",
       "      <td>0</td>\n",
       "      <td>1</td>\n",
       "    </tr>\n",
       "  </tbody>\n",
       "</table>\n",
       "</div>"
      ],
      "text/plain": [
       "      id  gender   age  hypertension  heart_disease  ever_married  work_type  \\\n",
       "0   9046       0  67.0             0              1             1          4   \n",
       "2  31112       0  80.0             0              1             1          4   \n",
       "3  60182       1  49.0             0              0             1          4   \n",
       "4   1665       1  79.0             1              0             1          0   \n",
       "5  56669       0  81.0             0              0             1          4   \n",
       "\n",
       "   Residence_type  avg_glucose_level   bmi  smoking_status  stroke  \n",
       "0               0             228.69  36.6               0       1  \n",
       "2               1             105.92  32.5               1       1  \n",
       "3               0             171.23  34.4               2       1  \n",
       "4               1             174.12  24.0               1       1  \n",
       "5               0             186.21  29.0               0       1  "
      ]
     },
     "execution_count": 33,
     "metadata": {},
     "output_type": "execute_result"
    }
   ],
   "source": [
    "df.head()"
   ]
  },
  {
   "cell_type": "markdown",
   "id": "81a31bf2-fdfa-4baf-bb7a-9f20eb642966",
   "metadata": {},
   "source": [
    "Now that our data is converted, we are able to begin our models.  We will be using both Logistic Regression and K-Nearest-Neighbors."
   ]
  },
  {
   "cell_type": "markdown",
   "id": "2cbf0cf5-5a31-49f1-84d4-354c1a811386",
   "metadata": {},
   "source": [
    "#### Packages Needed"
   ]
  },
  {
   "cell_type": "code",
   "execution_count": 58,
   "id": "8dae8551-e1b6-4536-94e1-d0d6c3eb0c31",
   "metadata": {},
   "outputs": [],
   "source": [
    "from sklearn.model_selection import train_test_split\n",
    "from sklearn.pipeline import Pipeline\n",
    "from sklearn.naive_bayes import MultinomialNB\n",
    "from sklearn.feature_extraction.text import TfidfTransformer\n",
    "from sklearn.feature_extraction.text import CountVectorizer\n",
    "from sklearn.neighbors import KNeighborsClassifier\n",
    "from sklearn.metrics import f1_score, precision_score, recall_score\n",
    "from sklearn.pipeline import make_pipeline\n",
    "from sklearn.preprocessing import StandardScaler\n",
    "from sklearn import preprocessing\n",
    "import seaborn as sns"
   ]
  },
  {
   "cell_type": "markdown",
   "id": "9c015977-9ccc-4122-b29a-f736b54c1a9a",
   "metadata": {},
   "source": [
    "#### Logistic Regression"
   ]
  },
  {
   "cell_type": "code",
   "execution_count": 71,
   "id": "8e9e4902-7f5c-41df-9525-0f127b3339af",
   "metadata": {},
   "outputs": [
    {
     "data": {
      "text/html": [
       "<div>\n",
       "<style scoped>\n",
       "    .dataframe tbody tr th:only-of-type {\n",
       "        vertical-align: middle;\n",
       "    }\n",
       "\n",
       "    .dataframe tbody tr th {\n",
       "        vertical-align: top;\n",
       "    }\n",
       "\n",
       "    .dataframe thead th {\n",
       "        text-align: right;\n",
       "    }\n",
       "</style>\n",
       "<table border=\"1\" class=\"dataframe\">\n",
       "  <thead>\n",
       "    <tr style=\"text-align: right;\">\n",
       "      <th></th>\n",
       "      <th>gender</th>\n",
       "      <th>ever_married</th>\n",
       "      <th>work_type</th>\n",
       "      <th>Residence_type</th>\n",
       "      <th>smoking_status</th>\n",
       "      <th>age</th>\n",
       "      <th>avg_glucose_level</th>\n",
       "      <th>bmi</th>\n",
       "      <th>hypertension</th>\n",
       "      <th>stroke</th>\n",
       "      <th>heart_disease</th>\n",
       "    </tr>\n",
       "  </thead>\n",
       "  <tbody>\n",
       "    <tr>\n",
       "      <th>0</th>\n",
       "      <td>0</td>\n",
       "      <td>1</td>\n",
       "      <td>4</td>\n",
       "      <td>0</td>\n",
       "      <td>0</td>\n",
       "      <td>67.0</td>\n",
       "      <td>228.69</td>\n",
       "      <td>36.6</td>\n",
       "      <td>0</td>\n",
       "      <td>1</td>\n",
       "      <td>1</td>\n",
       "    </tr>\n",
       "    <tr>\n",
       "      <th>2</th>\n",
       "      <td>0</td>\n",
       "      <td>1</td>\n",
       "      <td>4</td>\n",
       "      <td>1</td>\n",
       "      <td>1</td>\n",
       "      <td>80.0</td>\n",
       "      <td>105.92</td>\n",
       "      <td>32.5</td>\n",
       "      <td>0</td>\n",
       "      <td>1</td>\n",
       "      <td>1</td>\n",
       "    </tr>\n",
       "    <tr>\n",
       "      <th>3</th>\n",
       "      <td>1</td>\n",
       "      <td>1</td>\n",
       "      <td>4</td>\n",
       "      <td>0</td>\n",
       "      <td>2</td>\n",
       "      <td>49.0</td>\n",
       "      <td>171.23</td>\n",
       "      <td>34.4</td>\n",
       "      <td>0</td>\n",
       "      <td>1</td>\n",
       "      <td>0</td>\n",
       "    </tr>\n",
       "    <tr>\n",
       "      <th>4</th>\n",
       "      <td>1</td>\n",
       "      <td>1</td>\n",
       "      <td>0</td>\n",
       "      <td>1</td>\n",
       "      <td>1</td>\n",
       "      <td>79.0</td>\n",
       "      <td>174.12</td>\n",
       "      <td>24.0</td>\n",
       "      <td>1</td>\n",
       "      <td>1</td>\n",
       "      <td>0</td>\n",
       "    </tr>\n",
       "    <tr>\n",
       "      <th>5</th>\n",
       "      <td>0</td>\n",
       "      <td>1</td>\n",
       "      <td>4</td>\n",
       "      <td>0</td>\n",
       "      <td>0</td>\n",
       "      <td>81.0</td>\n",
       "      <td>186.21</td>\n",
       "      <td>29.0</td>\n",
       "      <td>0</td>\n",
       "      <td>1</td>\n",
       "      <td>0</td>\n",
       "    </tr>\n",
       "  </tbody>\n",
       "</table>\n",
       "</div>"
      ],
      "text/plain": [
       "   gender  ever_married  work_type  Residence_type  smoking_status   age  \\\n",
       "0       0             1          4               0               0  67.0   \n",
       "2       0             1          4               1               1  80.0   \n",
       "3       1             1          4               0               2  49.0   \n",
       "4       1             1          0               1               1  79.0   \n",
       "5       0             1          4               0               0  81.0   \n",
       "\n",
       "   avg_glucose_level   bmi  hypertension  stroke  heart_disease  \n",
       "0             228.69  36.6             0       1              1  \n",
       "2             105.92  32.5             0       1              1  \n",
       "3             171.23  34.4             0       1              0  \n",
       "4             174.12  24.0             1       1              0  \n",
       "5             186.21  29.0             0       1              0  "
      ]
     },
     "execution_count": 71,
     "metadata": {},
     "output_type": "execute_result"
    }
   ],
   "source": [
    "#rearrange columns \n",
    "n_df = df[['id', 'gender', 'ever_married',\n",
    "       'work_type', 'Residence_type','smoking_status', 'avg_glucose_level', 'bmi',  'age',\n",
    "       'hypertension','stroke','heart_disease']]\n",
    "\n",
    "#label encode the data using LabelEncoder\n",
    "le_df = n_df\n",
    "\n",
    "le = preprocessing.LabelEncoder()\n",
    "le_ndf = le_df[['gender', 'ever_married', 'work_type', 'Residence_type','smoking_status']].apply(le.fit_transform)\n",
    "\n",
    "#convert the label encoded dataframe to list to append to the other data\n",
    "age = le_df['age'].values.tolist()\n",
    "glu = le_df['avg_glucose_level'].values.tolist()\n",
    "bmi = le_df['bmi'].values.tolist()\n",
    "hype = le_df['hypertension'].values.tolist()\n",
    "stk = le_df['stroke'].values.tolist()\n",
    "hd = le_df['heart_disease'].values.tolist()\n",
    "\n",
    "#add it to the dataframe\n",
    "le_ndf['age'] = age\n",
    "le_ndf['avg_glucose_level'] = glu\n",
    "le_ndf['bmi'] = bmi\n",
    "le_ndf['hypertension'] = hype\n",
    "le_ndf['stroke'] = stk\n",
    "le_ndf['heart_disease'] = hd\n",
    "le_ndf.head()"
   ]
  },
  {
   "cell_type": "code",
   "execution_count": 72,
   "id": "235a0e91-3f20-401e-b783-3447e70af47a",
   "metadata": {},
   "outputs": [
    {
     "data": {
      "text/plain": [
       "<AxesSubplot:>"
      ]
     },
     "execution_count": 72,
     "metadata": {},
     "output_type": "execute_result"
    },
    {
     "data": {
      "image/png": "[encoded data removed]",
      "text/plain": [
       "<Figure size 432x288 with 2 Axes>"
      ]
     },
     "metadata": {
      "needs_background": "light"
     },
     "output_type": "display_data"
    }
   ],
   "source": [
    "sns.heatmap(le_ndf.corr())"
   ]
  },
  {
   "cell_type": "code",
   "execution_count": 73,
   "id": "3dd867a2-f739-40a3-bcdd-326a5324deed",
   "metadata": {},
   "outputs": [
    {
     "name": "stderr",
     "output_type": "stream",
     "text": [
      "/opt/anaconda3/lib/python3.8/site-packages/sklearn/linear_model/_logistic.py:763: ConvergenceWarning: lbfgs failed to converge (status=1):\n",
      "STOP: TOTAL NO. of ITERATIONS REACHED LIMIT.\n",
      "\n",
      "Increase the number of iterations (max_iter) or scale the data as shown in:\n",
      "    https://scikit-learn.org/stable/modules/preprocessing.html\n",
      "Please also refer to the documentation for alternative solver options:\n",
      "    https://scikit-learn.org/stable/modules/linear_model.html#logistic-regression\n",
      "  n_iter_i = _check_optimize_result(\n"
     ]
    }
   ],
   "source": [
    "#split data to feature and target variable\n",
    "feat_col = ['gender', 'ever_married', 'work_type', 'Residence_type','smoking_status', 'age', 'avg_glucose_level', 'bmi']\n",
    "x = le_ndf[feat_col]\n",
    "y = le_ndf.stroke\n",
    "\n",
    "#train test split the data\n",
    "from sklearn.model_selection import train_test_split\n",
    "x_train, x_test, y_train, y_test = train_test_split(x, y, test_size=0.3, random_state=0)\n",
    "\n",
    "#logistic Regression using linear_model package\n",
    "from sklearn.linear_model import LogisticRegression\n",
    "\n",
    "#initiate the model\n",
    "logreg = LogisticRegression()\n",
    "\n",
    "#apply the data with model\n",
    "logreg.fit(x_train, y_train)\n",
    "\n",
    "#test data\n",
    "y_pred = logreg.predict(x_test)"
   ]
  },
  {
   "cell_type": "code",
   "execution_count": 74,
   "id": "541d1375-b050-4868-962f-f7e212bb08a1",
   "metadata": {},
   "outputs": [
    {
     "name": "stdout",
     "output_type": "stream",
     "text": [
      "[[1418    0]\n",
      " [  55    0]]\n",
      "              precision    recall  f1-score   support\n",
      "\n",
      "           0       0.96      1.00      0.98      1418\n",
      "           1       0.00      0.00      0.00        55\n",
      "\n",
      "    accuracy                           0.96      1473\n",
      "   macro avg       0.48      0.50      0.49      1473\n",
      "weighted avg       0.93      0.96      0.94      1473\n",
      "\n"
     ]
    },
    {
     "name": "stderr",
     "output_type": "stream",
     "text": [
      "/opt/anaconda3/lib/python3.8/site-packages/sklearn/metrics/_classification.py:1245: UndefinedMetricWarning: Precision and F-score are ill-defined and being set to 0.0 in labels with no predicted samples. Use `zero_division` parameter to control this behavior.\n",
      "  _warn_prf(average, modifier, msg_start, len(result))\n",
      "/opt/anaconda3/lib/python3.8/site-packages/sklearn/metrics/_classification.py:1245: UndefinedMetricWarning: Precision and F-score are ill-defined and being set to 0.0 in labels with no predicted samples. Use `zero_division` parameter to control this behavior.\n",
      "  _warn_prf(average, modifier, msg_start, len(result))\n",
      "/opt/anaconda3/lib/python3.8/site-packages/sklearn/metrics/_classification.py:1245: UndefinedMetricWarning: Precision and F-score are ill-defined and being set to 0.0 in labels with no predicted samples. Use `zero_division` parameter to control this behavior.\n",
      "  _warn_prf(average, modifier, msg_start, len(result))\n"
     ]
    }
   ],
   "source": [
    "cnf_matrix = metrics.confusion_matrix(y_test, y_pred)\n",
    "print(cnf_matrix)\n",
    "print(classification_report(y_test, y_pred))"
   ]
  },
  {
   "cell_type": "code",
   "execution_count": 75,
   "id": "625e68b4-4668-419b-a515-847dadab881e",
   "metadata": {},
   "outputs": [
    {
     "data": {
      "text/plain": [
       "Text(0.5, 257.44, 'Predicted label')"
      ]
     },
     "execution_count": 75,
     "metadata": {},
     "output_type": "execute_result"
    },
    {
     "data": {
      "image/png": "[encoded data removed]",
      "text/plain": [
       "<Figure size 432x288 with 2 Axes>"
      ]
     },
     "metadata": {
      "needs_background": "light"
     },
     "output_type": "display_data"
    }
   ],
   "source": [
    "class_names = ['True','False'] # true||false\n",
    "fig, ax = plt.subplots()\n",
    "tick_marks = np.arange(len(class_names))\n",
    "plt.xticks(tick_marks, class_names)\n",
    "plt.yticks(tick_marks, class_names)\n",
    "\n",
    "# heatmap\n",
    "sns.heatmap(pd.DataFrame(cnf_matrix), annot=True, cmap=\"YlGnBu\" ,fmt='g')\n",
    "ax.xaxis.set_label_position(\"top\")\n",
    "plt.tight_layout()\n",
    "plt.title('Confusion matrix', y=1.1)\n",
    "plt.ylabel('Actual label')\n",
    "plt.xlabel('Predicted label')"
   ]
  },
  {
   "cell_type": "markdown",
   "id": "43c86f10-43d0-46bb-80e5-b2581dd51274",
   "metadata": {},
   "source": [
    "#### K-Nearest-Neighbors"
   ]
  },
  {
   "cell_type": "code",
   "execution_count": 65,
   "id": "60957bdb-0422-4e5a-844d-2f2aa96140f4",
   "metadata": {},
   "outputs": [
    {
     "name": "stdout",
     "output_type": "stream",
     "text": [
      "(3436, 10) (1473, 10) (3436, 1) (1473, 1)\n"
     ]
    }
   ],
   "source": [
    "# split data into train and test\n",
    "y = df[['stroke']]\n",
    "x = df[['gender','age', 'hypertension', 'heart_disease', 'ever_married',\n",
    "       'work_type', 'Residence_type', 'avg_glucose_level', 'bmi',\n",
    "       'smoking_status']]\n",
    "X_train, X_test, y_train, y_test = train_test_split(x, y, test_size=0.30, random_state=0)\n",
    "print(X_train.shape,X_test.shape,y_train.shape,y_test.shape)"
   ]
  },
  {
   "cell_type": "code",
   "execution_count": 66,
   "id": "eb79a475-62ed-48cc-b906-e8c069ceb12f",
   "metadata": {},
   "outputs": [
    {
     "name": "stdout",
     "output_type": "stream",
     "text": [
      "(3436, 10) (1473, 10)\n"
     ]
    }
   ],
   "source": [
    "scaler = StandardScaler()\n",
    "scaler.fit(X_train)\n",
    "\n",
    "X_train = scaler.transform(X_train)\n",
    "X_test = scaler.transform(X_test)\n",
    "print(X_train.shape,X_test.shape)"
   ]
  },
  {
   "cell_type": "code",
   "execution_count": 67,
   "id": "216865bd-bf15-44f0-933e-efe7a2713b67",
   "metadata": {},
   "outputs": [
    {
     "name": "stderr",
     "output_type": "stream",
     "text": [
      "/opt/anaconda3/lib/python3.8/site-packages/sklearn/neighbors/_classification.py:179: DataConversionWarning: A column-vector y was passed when a 1d array was expected. Please change the shape of y to (n_samples,), for example using ravel().\n",
      "  return self._fit(X, y)\n"
     ]
    }
   ],
   "source": [
    "classifier = KNeighborsClassifier(n_neighbors=2)\n",
    "classifier.fit(X_train, y_train)\n",
    "y_pred = classifier.predict(X_test)"
   ]
  },
  {
   "cell_type": "code",
   "execution_count": 68,
   "id": "bfcd74d4-2b71-4b30-9c14-427bc5424134",
   "metadata": {},
   "outputs": [
    {
     "name": "stdout",
     "output_type": "stream",
     "text": [
      "[[1409    9]\n",
      " [  55    0]]\n",
      "              precision    recall  f1-score   support\n",
      "\n",
      "           0       0.96      0.99      0.98      1418\n",
      "           1       0.00      0.00      0.00        55\n",
      "\n",
      "    accuracy                           0.96      1473\n",
      "   macro avg       0.48      0.50      0.49      1473\n",
      "weighted avg       0.93      0.96      0.94      1473\n",
      "\n"
     ]
    }
   ],
   "source": [
    "from sklearn.metrics import classification_report, confusion_matrix\n",
    "cnf_matrix = confusion_matrix(y_test, y_pred)\n",
    "print(cnf_matrix)\n",
    "print(classification_report(y_test, y_pred))"
   ]
  },
  {
   "cell_type": "code",
   "execution_count": 69,
   "id": "e59c75e5-a39d-4237-8de6-5ab280474db8",
   "metadata": {},
   "outputs": [
    {
     "data": {
      "text/plain": [
       "Text(0.5, 257.44, 'Predicted label')"
      ]
     },
     "execution_count": 69,
     "metadata": {},
     "output_type": "execute_result"
    },
    {
     "data": {
      "image/png": "[encoded data removed]",
      "text/plain": [
       "<Figure size 432x288 with 2 Axes>"
      ]
     },
     "metadata": {
      "needs_background": "light"
     },
     "output_type": "display_data"
    }
   ],
   "source": [
    "# graph confusion matrix\n",
    "import numpy as np\n",
    "import seaborn as sns\n",
    "\n",
    "class_names = ['True','False'] # true||false\n",
    "fig, ax = plt.subplots()\n",
    "tick_marks = np.arange(len(class_names))\n",
    "plt.xticks(tick_marks, class_names)\n",
    "plt.yticks(tick_marks, class_names)\n",
    "\n",
    "# heatmap\n",
    "sns.heatmap(pd.DataFrame(cnf_matrix), annot=True, cmap=\"YlGnBu\" ,fmt='g')\n",
    "ax.xaxis.set_label_position(\"top\")\n",
    "plt.tight_layout()\n",
    "plt.title('Confusion matrix', y=1.1)\n",
    "plt.ylabel('Actual label')\n",
    "plt.xlabel('Predicted label')"
   ]
  },
  {
   "cell_type": "markdown",
   "id": "f7d89a5c-3c8b-4288-ab49-c0d02208834c",
   "metadata": {},
   "source": [
    "### Results and Conclusions\n",
    "\n",
    "As you can see by our confusion matrix for both the logistic regression and the KNN model, our accuracy, recall and f1-score make it seem like our models are performing super well.  However, this is not the case.  Our data is super imbalanced meaning that there are not enough cases of people having a stroke in our data set.  There are some ways to fix this such as making the test set smaller in proportion to the amount of people that have had a stroke.  However, this would get rid of a significant amount of data and overall result in a model that doesn't perform well. Our group wishes that we noticed how imbalanced this dataset was earlier on so we were able to find a dataset that would've performed better."
   ]
  },
  {
   "cell_type": "markdown",
   "id": "d8514d0b-5488-4222-94fb-89929d9c660e",
   "metadata": {},
   "source": [
    "### Who Did What\n",
    "\n",
    "- Hannah: EDA and KNN model\n",
    "\n",
    "- Joey: Logistic Regression Model\n",
    "\n",
    "- Nick: Preprocessing and EDA\n",
    "\n",
    "- Kunal: Preprocessing"
   ]
  },
  {
   "cell_type": "code",
   "execution_count": null,
   "id": "cd1d5d07-6d0c-478c-bd32-92a20822bb56",
   "metadata": {},
   "outputs": [],
   "source": []
  }
 ],
 "metadata": {
  "kernelspec": {
   "display_name": "Python 3",
   "language": "python",
   "name": "python3"
  },
  "language_info": {
   "codemirror_mode": {
    "name": "ipython",
    "version": 3
   },
   "file_extension": ".py",
   "mimetype": "text/x-python",
   "name": "python",
   "nbconvert_exporter": "python",
   "pygments_lexer": "ipython3",
   "version": "3.8.8"
  }
 },
 "nbformat": 4,
 "nbformat_minor": 5
}
